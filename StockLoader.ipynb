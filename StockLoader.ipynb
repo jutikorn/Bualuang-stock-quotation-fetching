{
 "cells": [
  {
   "cell_type": "code",
   "execution_count": 40,
   "metadata": {
    "collapsed": false
   },
   "outputs": [],
   "source": [
    "import urllib.request\n",
    "import datetime\n",
    "import csv\n",
    "import os\n",
    "import glob\n",
    "from pathlib import Path\n",
    "from urllib.error import URLError, HTTPError\n",
    "from datetime import timedelta  \n",
    "\n",
    "BASE_URL = \"http://realtime.bualuang.co.th/myeasy/realtime/quotation/txt/{}.txt\"\n",
    "STOCK_PATH = '/DEFINE-PATH-HERE/'\n",
    "\n",
    "START_DATE = datetime.datetime.strptime('01012003', '%d%m%Y')\n",
    "\n",
    "today = datetime.datetime.now()\n",
    "\n",
    "should_fetch_from_start = not os.path.exists(STOCK_PATH)\n",
    "           \n",
    "def string_to_date(string, pattern = '%d%m%Y'):\n",
    "    return datetime.datetime.strptime(string, pattern)\n",
    "\n",
    "def fetch_stockenddate_price(date_obj, directory=STOCK_PATH):\n",
    "    try:\n",
    "        date_str = date_obj.strftime('%d%m%Y')\n",
    "        response = urllib.request.urlopen(BASE_URL.format(date_str))\n",
    "        data = response.read()\n",
    "        text = data.decode('utf-8')\n",
    "        f = open(\"{}{}.csv\".format(directory,date_str),\"w\")\n",
    "        f.write(text)\n",
    "        f.close()\n",
    "    except HTTPError as e:\n",
    "        print(\"Market closed\")\n",
    "        \n",
    "def create_base_directory(directory = STOCK_PATH):\n",
    "    if not os.path.exists(directory):\n",
    "        os.makedirs(directory)\n",
    "        \n",
    "def is_weekend(datetime):\n",
    "    day = datetime.weekday()\n",
    "    return day == 5 or day == 6\n",
    "\n",
    "def get_latest_file(directory = STOCK_PATH):\n",
    "    list_of_files = glob.glob('{}*.csv'.format(directory)) \n",
    "    if list_of_files:\n",
    "        return max(list_of_files, key=os.path.getctime)\n",
    "    \n",
    "def fetch_stockenddate_price_until(date_to_fetch, date_to_stop, include=True):\n",
    "    while date_to_fetch <= date_to_stop if include else date_to_fetch < date_to_stop:\n",
    "        if not is_weekend(date_to_fetch):\n",
    "            fetch_stockenddate_price(date_to_fetch)\n",
    "        date_to_fetch = date_to_fetch + timedelta(days=1)   \n",
    "        \n",
    "def is_path_writable(path):\n",
    "    return os.access(path, os.W_OK)\n",
    "\n",
    "def fetch_from_start():\n",
    "    create_base_directory()\n",
    "    fetch_stockenddate_price_until(START_DATE, today)\n",
    "    \n",
    "if should_fetch_from_start:\n",
    "    fetch_from_start()\n",
    "else:\n",
    "    fullpath = get_latest_file(STOCK_PATH)\n",
    "    if fullpath:\n",
    "       date_to_fetch = string_to_date(Path(fullpath).name.replace(\".csv\", '')) + timedelta(days=1)\n",
    "       fetch_stockenddate_price_until(date_to_fetch, today)\n",
    "    else:\n",
    "        fetch_from_start()"
   ]
  },
  {
   "cell_type": "code",
   "execution_count": null,
   "metadata": {
    "collapsed": true
   },
   "outputs": [],
   "source": []
  },
  {
   "cell_type": "code",
   "execution_count": null,
   "metadata": {
    "collapsed": false
   },
   "outputs": [],
   "source": []
  },
  {
   "cell_type": "code",
   "execution_count": null,
   "metadata": {
    "collapsed": true
   },
   "outputs": [],
   "source": []
  },
  {
   "cell_type": "code",
   "execution_count": null,
   "metadata": {
    "collapsed": true
   },
   "outputs": [],
   "source": []
  },
  {
   "cell_type": "code",
   "execution_count": null,
   "metadata": {
    "collapsed": false
   },
   "outputs": [],
   "source": []
  },
  {
   "cell_type": "code",
   "execution_count": null,
   "metadata": {
    "collapsed": false
   },
   "outputs": [],
   "source": [
    "\n",
    "    \n",
    "\n"
   ]
  },
  {
   "cell_type": "code",
   "execution_count": null,
   "metadata": {
    "collapsed": true
   },
   "outputs": [],
   "source": []
  },
  {
   "cell_type": "code",
   "execution_count": null,
   "metadata": {
    "collapsed": true
   },
   "outputs": [],
   "source": []
  },
  {
   "cell_type": "code",
   "execution_count": 17,
   "metadata": {
    "collapsed": true
   },
   "outputs": [],
   "source": []
  },
  {
   "cell_type": "code",
   "execution_count": null,
   "metadata": {
    "collapsed": false
   },
   "outputs": [],
   "source": []
  },
  {
   "cell_type": "code",
   "execution_count": null,
   "metadata": {
    "collapsed": true
   },
   "outputs": [],
   "source": []
  }
 ],
 "metadata": {
  "kernelspec": {
   "display_name": "Python 3",
   "language": "python",
   "name": "python3"
  },
  "language_info": {
   "codemirror_mode": {
    "name": "ipython",
    "version": 3
   },
   "file_extension": ".py",
   "mimetype": "text/x-python",
   "name": "python",
   "nbconvert_exporter": "python",
   "pygments_lexer": "ipython3",
   "version": "3.6.0"
  }
 },
 "nbformat": 4,
 "nbformat_minor": 2
}
